{
  "nbformat": 4,
  "nbformat_minor": 0,
  "metadata": {
    "colab": {
      "provenance": []
    },
    "kernelspec": {
      "name": "python3",
      "display_name": "Python 3"
    },
    "language_info": {
      "name": "python"
    },
    "accelerator": "GPU",
    "widgets": {
      "application/vnd.jupyter.widget-state+json": {
        "3cd5ae67c5644b83900ed7319ca722f5": {
          "model_module": "@jupyter-widgets/controls",
          "model_name": "HBoxModel",
          "model_module_version": "1.5.0",
          "state": {
            "_dom_classes": [],
            "_model_module": "@jupyter-widgets/controls",
            "_model_module_version": "1.5.0",
            "_model_name": "HBoxModel",
            "_view_count": null,
            "_view_module": "@jupyter-widgets/controls",
            "_view_module_version": "1.5.0",
            "_view_name": "HBoxView",
            "box_style": "",
            "children": [
              "IPY_MODEL_db9d3cd14972445cb4c158d1b9b7fcb2",
              "IPY_MODEL_bf46e7ce4da441c3a6b65cfdefb1e498",
              "IPY_MODEL_8399a832b0df4d5cb10dbc8072cf07f9"
            ],
            "layout": "IPY_MODEL_ec7b4a1048b14335a34050efdcc4f314"
          }
        },
        "db9d3cd14972445cb4c158d1b9b7fcb2": {
          "model_module": "@jupyter-widgets/controls",
          "model_name": "HTMLModel",
          "model_module_version": "1.5.0",
          "state": {
            "_dom_classes": [],
            "_model_module": "@jupyter-widgets/controls",
            "_model_module_version": "1.5.0",
            "_model_name": "HTMLModel",
            "_view_count": null,
            "_view_module": "@jupyter-widgets/controls",
            "_view_module_version": "1.5.0",
            "_view_name": "HTMLView",
            "description": "",
            "description_tooltip": null,
            "layout": "IPY_MODEL_9bf44cd614df4d268f06fd53aae45b56",
            "placeholder": "​",
            "style": "IPY_MODEL_7dcea11a77d34b67b9fe3880c136e7da",
            "value": "100%"
          }
        },
        "bf46e7ce4da441c3a6b65cfdefb1e498": {
          "model_module": "@jupyter-widgets/controls",
          "model_name": "FloatProgressModel",
          "model_module_version": "1.5.0",
          "state": {
            "_dom_classes": [],
            "_model_module": "@jupyter-widgets/controls",
            "_model_module_version": "1.5.0",
            "_model_name": "FloatProgressModel",
            "_view_count": null,
            "_view_module": "@jupyter-widgets/controls",
            "_view_module_version": "1.5.0",
            "_view_name": "ProgressView",
            "bar_style": "success",
            "description": "",
            "description_tooltip": null,
            "layout": "IPY_MODEL_f0dcd3b6b1914adabd2a868865083ab6",
            "max": 150,
            "min": 0,
            "orientation": "horizontal",
            "style": "IPY_MODEL_18ee68968168410fb92c7e8607c06238",
            "value": 150
          }
        },
        "8399a832b0df4d5cb10dbc8072cf07f9": {
          "model_module": "@jupyter-widgets/controls",
          "model_name": "HTMLModel",
          "model_module_version": "1.5.0",
          "state": {
            "_dom_classes": [],
            "_model_module": "@jupyter-widgets/controls",
            "_model_module_version": "1.5.0",
            "_model_name": "HTMLModel",
            "_view_count": null,
            "_view_module": "@jupyter-widgets/controls",
            "_view_module_version": "1.5.0",
            "_view_name": "HTMLView",
            "description": "",
            "description_tooltip": null,
            "layout": "IPY_MODEL_71de181a6aa9434d8b4fad0c83dac190",
            "placeholder": "​",
            "style": "IPY_MODEL_e3b875f2533244a19ecae6fdbc1a1513",
            "value": " 150/150 [07:41&lt;00:00,  3.03s/it]"
          }
        },
        "ec7b4a1048b14335a34050efdcc4f314": {
          "model_module": "@jupyter-widgets/base",
          "model_name": "LayoutModel",
          "model_module_version": "1.2.0",
          "state": {
            "_model_module": "@jupyter-widgets/base",
            "_model_module_version": "1.2.0",
            "_model_name": "LayoutModel",
            "_view_count": null,
            "_view_module": "@jupyter-widgets/base",
            "_view_module_version": "1.2.0",
            "_view_name": "LayoutView",
            "align_content": null,
            "align_items": null,
            "align_self": null,
            "border": null,
            "bottom": null,
            "display": null,
            "flex": null,
            "flex_flow": null,
            "grid_area": null,
            "grid_auto_columns": null,
            "grid_auto_flow": null,
            "grid_auto_rows": null,
            "grid_column": null,
            "grid_gap": null,
            "grid_row": null,
            "grid_template_areas": null,
            "grid_template_columns": null,
            "grid_template_rows": null,
            "height": null,
            "justify_content": null,
            "justify_items": null,
            "left": null,
            "margin": null,
            "max_height": null,
            "max_width": null,
            "min_height": null,
            "min_width": null,
            "object_fit": null,
            "object_position": null,
            "order": null,
            "overflow": null,
            "overflow_x": null,
            "overflow_y": null,
            "padding": null,
            "right": null,
            "top": null,
            "visibility": null,
            "width": null
          }
        },
        "9bf44cd614df4d268f06fd53aae45b56": {
          "model_module": "@jupyter-widgets/base",
          "model_name": "LayoutModel",
          "model_module_version": "1.2.0",
          "state": {
            "_model_module": "@jupyter-widgets/base",
            "_model_module_version": "1.2.0",
            "_model_name": "LayoutModel",
            "_view_count": null,
            "_view_module": "@jupyter-widgets/base",
            "_view_module_version": "1.2.0",
            "_view_name": "LayoutView",
            "align_content": null,
            "align_items": null,
            "align_self": null,
            "border": null,
            "bottom": null,
            "display": null,
            "flex": null,
            "flex_flow": null,
            "grid_area": null,
            "grid_auto_columns": null,
            "grid_auto_flow": null,
            "grid_auto_rows": null,
            "grid_column": null,
            "grid_gap": null,
            "grid_row": null,
            "grid_template_areas": null,
            "grid_template_columns": null,
            "grid_template_rows": null,
            "height": null,
            "justify_content": null,
            "justify_items": null,
            "left": null,
            "margin": null,
            "max_height": null,
            "max_width": null,
            "min_height": null,
            "min_width": null,
            "object_fit": null,
            "object_position": null,
            "order": null,
            "overflow": null,
            "overflow_x": null,
            "overflow_y": null,
            "padding": null,
            "right": null,
            "top": null,
            "visibility": null,
            "width": null
          }
        },
        "7dcea11a77d34b67b9fe3880c136e7da": {
          "model_module": "@jupyter-widgets/controls",
          "model_name": "DescriptionStyleModel",
          "model_module_version": "1.5.0",
          "state": {
            "_model_module": "@jupyter-widgets/controls",
            "_model_module_version": "1.5.0",
            "_model_name": "DescriptionStyleModel",
            "_view_count": null,
            "_view_module": "@jupyter-widgets/base",
            "_view_module_version": "1.2.0",
            "_view_name": "StyleView",
            "description_width": ""
          }
        },
        "f0dcd3b6b1914adabd2a868865083ab6": {
          "model_module": "@jupyter-widgets/base",
          "model_name": "LayoutModel",
          "model_module_version": "1.2.0",
          "state": {
            "_model_module": "@jupyter-widgets/base",
            "_model_module_version": "1.2.0",
            "_model_name": "LayoutModel",
            "_view_count": null,
            "_view_module": "@jupyter-widgets/base",
            "_view_module_version": "1.2.0",
            "_view_name": "LayoutView",
            "align_content": null,
            "align_items": null,
            "align_self": null,
            "border": null,
            "bottom": null,
            "display": null,
            "flex": null,
            "flex_flow": null,
            "grid_area": null,
            "grid_auto_columns": null,
            "grid_auto_flow": null,
            "grid_auto_rows": null,
            "grid_column": null,
            "grid_gap": null,
            "grid_row": null,
            "grid_template_areas": null,
            "grid_template_columns": null,
            "grid_template_rows": null,
            "height": null,
            "justify_content": null,
            "justify_items": null,
            "left": null,
            "margin": null,
            "max_height": null,
            "max_width": null,
            "min_height": null,
            "min_width": null,
            "object_fit": null,
            "object_position": null,
            "order": null,
            "overflow": null,
            "overflow_x": null,
            "overflow_y": null,
            "padding": null,
            "right": null,
            "top": null,
            "visibility": null,
            "width": null
          }
        },
        "18ee68968168410fb92c7e8607c06238": {
          "model_module": "@jupyter-widgets/controls",
          "model_name": "ProgressStyleModel",
          "model_module_version": "1.5.0",
          "state": {
            "_model_module": "@jupyter-widgets/controls",
            "_model_module_version": "1.5.0",
            "_model_name": "ProgressStyleModel",
            "_view_count": null,
            "_view_module": "@jupyter-widgets/base",
            "_view_module_version": "1.2.0",
            "_view_name": "StyleView",
            "bar_color": null,
            "description_width": ""
          }
        },
        "71de181a6aa9434d8b4fad0c83dac190": {
          "model_module": "@jupyter-widgets/base",
          "model_name": "LayoutModel",
          "model_module_version": "1.2.0",
          "state": {
            "_model_module": "@jupyter-widgets/base",
            "_model_module_version": "1.2.0",
            "_model_name": "LayoutModel",
            "_view_count": null,
            "_view_module": "@jupyter-widgets/base",
            "_view_module_version": "1.2.0",
            "_view_name": "LayoutView",
            "align_content": null,
            "align_items": null,
            "align_self": null,
            "border": null,
            "bottom": null,
            "display": null,
            "flex": null,
            "flex_flow": null,
            "grid_area": null,
            "grid_auto_columns": null,
            "grid_auto_flow": null,
            "grid_auto_rows": null,
            "grid_column": null,
            "grid_gap": null,
            "grid_row": null,
            "grid_template_areas": null,
            "grid_template_columns": null,
            "grid_template_rows": null,
            "height": null,
            "justify_content": null,
            "justify_items": null,
            "left": null,
            "margin": null,
            "max_height": null,
            "max_width": null,
            "min_height": null,
            "min_width": null,
            "object_fit": null,
            "object_position": null,
            "order": null,
            "overflow": null,
            "overflow_x": null,
            "overflow_y": null,
            "padding": null,
            "right": null,
            "top": null,
            "visibility": null,
            "width": null
          }
        },
        "e3b875f2533244a19ecae6fdbc1a1513": {
          "model_module": "@jupyter-widgets/controls",
          "model_name": "DescriptionStyleModel",
          "model_module_version": "1.5.0",
          "state": {
            "_model_module": "@jupyter-widgets/controls",
            "_model_module_version": "1.5.0",
            "_model_name": "DescriptionStyleModel",
            "_view_count": null,
            "_view_module": "@jupyter-widgets/base",
            "_view_module_version": "1.2.0",
            "_view_name": "StyleView",
            "description_width": ""
          }
        },
        "179c0ac753fc4cddadd83165176e7d12": {
          "model_module": "@jupyter-widgets/controls",
          "model_name": "HBoxModel",
          "model_module_version": "1.5.0",
          "state": {
            "_dom_classes": [],
            "_model_module": "@jupyter-widgets/controls",
            "_model_module_version": "1.5.0",
            "_model_name": "HBoxModel",
            "_view_count": null,
            "_view_module": "@jupyter-widgets/controls",
            "_view_module_version": "1.5.0",
            "_view_name": "HBoxView",
            "box_style": "",
            "children": [
              "IPY_MODEL_d6955c64a4f149608a204f1fbb339d46",
              "IPY_MODEL_4a9e5b6be66248348136350e2556d0bb",
              "IPY_MODEL_e51f891923344141aa7ba0b82dd100e3"
            ],
            "layout": "IPY_MODEL_24c1838f540342a7bbdb78f67315bd36"
          }
        },
        "d6955c64a4f149608a204f1fbb339d46": {
          "model_module": "@jupyter-widgets/controls",
          "model_name": "HTMLModel",
          "model_module_version": "1.5.0",
          "state": {
            "_dom_classes": [],
            "_model_module": "@jupyter-widgets/controls",
            "_model_module_version": "1.5.0",
            "_model_name": "HTMLModel",
            "_view_count": null,
            "_view_module": "@jupyter-widgets/controls",
            "_view_module_version": "1.5.0",
            "_view_name": "HTMLView",
            "description": "",
            "description_tooltip": null,
            "layout": "IPY_MODEL_b9b426bbe0ab41f88a7519f8fb9c00de",
            "placeholder": "​",
            "style": "IPY_MODEL_46b02414810b49b8a3ee7550730b0aa8",
            "value": "100%"
          }
        },
        "4a9e5b6be66248348136350e2556d0bb": {
          "model_module": "@jupyter-widgets/controls",
          "model_name": "FloatProgressModel",
          "model_module_version": "1.5.0",
          "state": {
            "_dom_classes": [],
            "_model_module": "@jupyter-widgets/controls",
            "_model_module_version": "1.5.0",
            "_model_name": "FloatProgressModel",
            "_view_count": null,
            "_view_module": "@jupyter-widgets/controls",
            "_view_module_version": "1.5.0",
            "_view_name": "ProgressView",
            "bar_style": "success",
            "description": "",
            "description_tooltip": null,
            "layout": "IPY_MODEL_978ef7237a0a4cdb83de33b2f5ec2bea",
            "max": 150,
            "min": 0,
            "orientation": "horizontal",
            "style": "IPY_MODEL_e7a33323a6af4967bc8f8dc8883c2705",
            "value": 150
          }
        },
        "e51f891923344141aa7ba0b82dd100e3": {
          "model_module": "@jupyter-widgets/controls",
          "model_name": "HTMLModel",
          "model_module_version": "1.5.0",
          "state": {
            "_dom_classes": [],
            "_model_module": "@jupyter-widgets/controls",
            "_model_module_version": "1.5.0",
            "_model_name": "HTMLModel",
            "_view_count": null,
            "_view_module": "@jupyter-widgets/controls",
            "_view_module_version": "1.5.0",
            "_view_name": "HTMLView",
            "description": "",
            "description_tooltip": null,
            "layout": "IPY_MODEL_e5f64f79741a4645bda35c56e30e96d1",
            "placeholder": "​",
            "style": "IPY_MODEL_af41bcd71442475b9fea1ca4b0a1b6ea",
            "value": " 150/150 [09:15&lt;00:00,  3.75s/it]"
          }
        },
        "24c1838f540342a7bbdb78f67315bd36": {
          "model_module": "@jupyter-widgets/base",
          "model_name": "LayoutModel",
          "model_module_version": "1.2.0",
          "state": {
            "_model_module": "@jupyter-widgets/base",
            "_model_module_version": "1.2.0",
            "_model_name": "LayoutModel",
            "_view_count": null,
            "_view_module": "@jupyter-widgets/base",
            "_view_module_version": "1.2.0",
            "_view_name": "LayoutView",
            "align_content": null,
            "align_items": null,
            "align_self": null,
            "border": null,
            "bottom": null,
            "display": null,
            "flex": null,
            "flex_flow": null,
            "grid_area": null,
            "grid_auto_columns": null,
            "grid_auto_flow": null,
            "grid_auto_rows": null,
            "grid_column": null,
            "grid_gap": null,
            "grid_row": null,
            "grid_template_areas": null,
            "grid_template_columns": null,
            "grid_template_rows": null,
            "height": null,
            "justify_content": null,
            "justify_items": null,
            "left": null,
            "margin": null,
            "max_height": null,
            "max_width": null,
            "min_height": null,
            "min_width": null,
            "object_fit": null,
            "object_position": null,
            "order": null,
            "overflow": null,
            "overflow_x": null,
            "overflow_y": null,
            "padding": null,
            "right": null,
            "top": null,
            "visibility": null,
            "width": null
          }
        },
        "b9b426bbe0ab41f88a7519f8fb9c00de": {
          "model_module": "@jupyter-widgets/base",
          "model_name": "LayoutModel",
          "model_module_version": "1.2.0",
          "state": {
            "_model_module": "@jupyter-widgets/base",
            "_model_module_version": "1.2.0",
            "_model_name": "LayoutModel",
            "_view_count": null,
            "_view_module": "@jupyter-widgets/base",
            "_view_module_version": "1.2.0",
            "_view_name": "LayoutView",
            "align_content": null,
            "align_items": null,
            "align_self": null,
            "border": null,
            "bottom": null,
            "display": null,
            "flex": null,
            "flex_flow": null,
            "grid_area": null,
            "grid_auto_columns": null,
            "grid_auto_flow": null,
            "grid_auto_rows": null,
            "grid_column": null,
            "grid_gap": null,
            "grid_row": null,
            "grid_template_areas": null,
            "grid_template_columns": null,
            "grid_template_rows": null,
            "height": null,
            "justify_content": null,
            "justify_items": null,
            "left": null,
            "margin": null,
            "max_height": null,
            "max_width": null,
            "min_height": null,
            "min_width": null,
            "object_fit": null,
            "object_position": null,
            "order": null,
            "overflow": null,
            "overflow_x": null,
            "overflow_y": null,
            "padding": null,
            "right": null,
            "top": null,
            "visibility": null,
            "width": null
          }
        },
        "46b02414810b49b8a3ee7550730b0aa8": {
          "model_module": "@jupyter-widgets/controls",
          "model_name": "DescriptionStyleModel",
          "model_module_version": "1.5.0",
          "state": {
            "_model_module": "@jupyter-widgets/controls",
            "_model_module_version": "1.5.0",
            "_model_name": "DescriptionStyleModel",
            "_view_count": null,
            "_view_module": "@jupyter-widgets/base",
            "_view_module_version": "1.2.0",
            "_view_name": "StyleView",
            "description_width": ""
          }
        },
        "978ef7237a0a4cdb83de33b2f5ec2bea": {
          "model_module": "@jupyter-widgets/base",
          "model_name": "LayoutModel",
          "model_module_version": "1.2.0",
          "state": {
            "_model_module": "@jupyter-widgets/base",
            "_model_module_version": "1.2.0",
            "_model_name": "LayoutModel",
            "_view_count": null,
            "_view_module": "@jupyter-widgets/base",
            "_view_module_version": "1.2.0",
            "_view_name": "LayoutView",
            "align_content": null,
            "align_items": null,
            "align_self": null,
            "border": null,
            "bottom": null,
            "display": null,
            "flex": null,
            "flex_flow": null,
            "grid_area": null,
            "grid_auto_columns": null,
            "grid_auto_flow": null,
            "grid_auto_rows": null,
            "grid_column": null,
            "grid_gap": null,
            "grid_row": null,
            "grid_template_areas": null,
            "grid_template_columns": null,
            "grid_template_rows": null,
            "height": null,
            "justify_content": null,
            "justify_items": null,
            "left": null,
            "margin": null,
            "max_height": null,
            "max_width": null,
            "min_height": null,
            "min_width": null,
            "object_fit": null,
            "object_position": null,
            "order": null,
            "overflow": null,
            "overflow_x": null,
            "overflow_y": null,
            "padding": null,
            "right": null,
            "top": null,
            "visibility": null,
            "width": null
          }
        },
        "e7a33323a6af4967bc8f8dc8883c2705": {
          "model_module": "@jupyter-widgets/controls",
          "model_name": "ProgressStyleModel",
          "model_module_version": "1.5.0",
          "state": {
            "_model_module": "@jupyter-widgets/controls",
            "_model_module_version": "1.5.0",
            "_model_name": "ProgressStyleModel",
            "_view_count": null,
            "_view_module": "@jupyter-widgets/base",
            "_view_module_version": "1.2.0",
            "_view_name": "StyleView",
            "bar_color": null,
            "description_width": ""
          }
        },
        "e5f64f79741a4645bda35c56e30e96d1": {
          "model_module": "@jupyter-widgets/base",
          "model_name": "LayoutModel",
          "model_module_version": "1.2.0",
          "state": {
            "_model_module": "@jupyter-widgets/base",
            "_model_module_version": "1.2.0",
            "_model_name": "LayoutModel",
            "_view_count": null,
            "_view_module": "@jupyter-widgets/base",
            "_view_module_version": "1.2.0",
            "_view_name": "LayoutView",
            "align_content": null,
            "align_items": null,
            "align_self": null,
            "border": null,
            "bottom": null,
            "display": null,
            "flex": null,
            "flex_flow": null,
            "grid_area": null,
            "grid_auto_columns": null,
            "grid_auto_flow": null,
            "grid_auto_rows": null,
            "grid_column": null,
            "grid_gap": null,
            "grid_row": null,
            "grid_template_areas": null,
            "grid_template_columns": null,
            "grid_template_rows": null,
            "height": null,
            "justify_content": null,
            "justify_items": null,
            "left": null,
            "margin": null,
            "max_height": null,
            "max_width": null,
            "min_height": null,
            "min_width": null,
            "object_fit": null,
            "object_position": null,
            "order": null,
            "overflow": null,
            "overflow_x": null,
            "overflow_y": null,
            "padding": null,
            "right": null,
            "top": null,
            "visibility": null,
            "width": null
          }
        },
        "af41bcd71442475b9fea1ca4b0a1b6ea": {
          "model_module": "@jupyter-widgets/controls",
          "model_name": "DescriptionStyleModel",
          "model_module_version": "1.5.0",
          "state": {
            "_model_module": "@jupyter-widgets/controls",
            "_model_module_version": "1.5.0",
            "_model_name": "DescriptionStyleModel",
            "_view_count": null,
            "_view_module": "@jupyter-widgets/base",
            "_view_module_version": "1.2.0",
            "_view_name": "StyleView",
            "description_width": ""
          }
        },
        "0dee87a4c6884f1db7e84b37dcc22033": {
          "model_module": "@jupyter-widgets/controls",
          "model_name": "HBoxModel",
          "model_module_version": "1.5.0",
          "state": {
            "_dom_classes": [],
            "_model_module": "@jupyter-widgets/controls",
            "_model_module_version": "1.5.0",
            "_model_name": "HBoxModel",
            "_view_count": null,
            "_view_module": "@jupyter-widgets/controls",
            "_view_module_version": "1.5.0",
            "_view_name": "HBoxView",
            "box_style": "",
            "children": [
              "IPY_MODEL_f39bbebb7c3045f38a8158e989216f83",
              "IPY_MODEL_449bd57de34346f890eb72a06282a1f9",
              "IPY_MODEL_c002786f77cd414a88d0be6473676c90"
            ],
            "layout": "IPY_MODEL_c27eff013c9f4b1f8f8f02ffeb250111"
          }
        },
        "f39bbebb7c3045f38a8158e989216f83": {
          "model_module": "@jupyter-widgets/controls",
          "model_name": "HTMLModel",
          "model_module_version": "1.5.0",
          "state": {
            "_dom_classes": [],
            "_model_module": "@jupyter-widgets/controls",
            "_model_module_version": "1.5.0",
            "_model_name": "HTMLModel",
            "_view_count": null,
            "_view_module": "@jupyter-widgets/controls",
            "_view_module_version": "1.5.0",
            "_view_name": "HTMLView",
            "description": "",
            "description_tooltip": null,
            "layout": "IPY_MODEL_1da51256c8bc47f7bdfdbae168ede4e4",
            "placeholder": "​",
            "style": "IPY_MODEL_9e03c3c286434a278d1daef4ba5943e3",
            "value": ""
          }
        },
        "449bd57de34346f890eb72a06282a1f9": {
          "model_module": "@jupyter-widgets/controls",
          "model_name": "FloatProgressModel",
          "model_module_version": "1.5.0",
          "state": {
            "_dom_classes": [],
            "_model_module": "@jupyter-widgets/controls",
            "_model_module_version": "1.5.0",
            "_model_name": "FloatProgressModel",
            "_view_count": null,
            "_view_module": "@jupyter-widgets/controls",
            "_view_module_version": "1.5.0",
            "_view_name": "ProgressView",
            "bar_style": "success",
            "description": "",
            "description_tooltip": null,
            "layout": "IPY_MODEL_ef5cb00180264b739df79c8495cdcf56",
            "max": 170498071,
            "min": 0,
            "orientation": "horizontal",
            "style": "IPY_MODEL_cef151ee68c7402c839cfc890cfa037f",
            "value": 170498071
          }
        },
        "c002786f77cd414a88d0be6473676c90": {
          "model_module": "@jupyter-widgets/controls",
          "model_name": "HTMLModel",
          "model_module_version": "1.5.0",
          "state": {
            "_dom_classes": [],
            "_model_module": "@jupyter-widgets/controls",
            "_model_module_version": "1.5.0",
            "_model_name": "HTMLModel",
            "_view_count": null,
            "_view_module": "@jupyter-widgets/controls",
            "_view_module_version": "1.5.0",
            "_view_name": "HTMLView",
            "description": "",
            "description_tooltip": null,
            "layout": "IPY_MODEL_bfae2c8c1e7a44dea6978722762338b6",
            "placeholder": "​",
            "style": "IPY_MODEL_c6e280e5e601429a9066691fc474d3d6",
            "value": " 170499072/? [00:06&lt;00:00, 31224279.48it/s]"
          }
        },
        "c27eff013c9f4b1f8f8f02ffeb250111": {
          "model_module": "@jupyter-widgets/base",
          "model_name": "LayoutModel",
          "model_module_version": "1.2.0",
          "state": {
            "_model_module": "@jupyter-widgets/base",
            "_model_module_version": "1.2.0",
            "_model_name": "LayoutModel",
            "_view_count": null,
            "_view_module": "@jupyter-widgets/base",
            "_view_module_version": "1.2.0",
            "_view_name": "LayoutView",
            "align_content": null,
            "align_items": null,
            "align_self": null,
            "border": null,
            "bottom": null,
            "display": null,
            "flex": null,
            "flex_flow": null,
            "grid_area": null,
            "grid_auto_columns": null,
            "grid_auto_flow": null,
            "grid_auto_rows": null,
            "grid_column": null,
            "grid_gap": null,
            "grid_row": null,
            "grid_template_areas": null,
            "grid_template_columns": null,
            "grid_template_rows": null,
            "height": null,
            "justify_content": null,
            "justify_items": null,
            "left": null,
            "margin": null,
            "max_height": null,
            "max_width": null,
            "min_height": null,
            "min_width": null,
            "object_fit": null,
            "object_position": null,
            "order": null,
            "overflow": null,
            "overflow_x": null,
            "overflow_y": null,
            "padding": null,
            "right": null,
            "top": null,
            "visibility": null,
            "width": null
          }
        },
        "1da51256c8bc47f7bdfdbae168ede4e4": {
          "model_module": "@jupyter-widgets/base",
          "model_name": "LayoutModel",
          "model_module_version": "1.2.0",
          "state": {
            "_model_module": "@jupyter-widgets/base",
            "_model_module_version": "1.2.0",
            "_model_name": "LayoutModel",
            "_view_count": null,
            "_view_module": "@jupyter-widgets/base",
            "_view_module_version": "1.2.0",
            "_view_name": "LayoutView",
            "align_content": null,
            "align_items": null,
            "align_self": null,
            "border": null,
            "bottom": null,
            "display": null,
            "flex": null,
            "flex_flow": null,
            "grid_area": null,
            "grid_auto_columns": null,
            "grid_auto_flow": null,
            "grid_auto_rows": null,
            "grid_column": null,
            "grid_gap": null,
            "grid_row": null,
            "grid_template_areas": null,
            "grid_template_columns": null,
            "grid_template_rows": null,
            "height": null,
            "justify_content": null,
            "justify_items": null,
            "left": null,
            "margin": null,
            "max_height": null,
            "max_width": null,
            "min_height": null,
            "min_width": null,
            "object_fit": null,
            "object_position": null,
            "order": null,
            "overflow": null,
            "overflow_x": null,
            "overflow_y": null,
            "padding": null,
            "right": null,
            "top": null,
            "visibility": null,
            "width": null
          }
        },
        "9e03c3c286434a278d1daef4ba5943e3": {
          "model_module": "@jupyter-widgets/controls",
          "model_name": "DescriptionStyleModel",
          "model_module_version": "1.5.0",
          "state": {
            "_model_module": "@jupyter-widgets/controls",
            "_model_module_version": "1.5.0",
            "_model_name": "DescriptionStyleModel",
            "_view_count": null,
            "_view_module": "@jupyter-widgets/base",
            "_view_module_version": "1.2.0",
            "_view_name": "StyleView",
            "description_width": ""
          }
        },
        "ef5cb00180264b739df79c8495cdcf56": {
          "model_module": "@jupyter-widgets/base",
          "model_name": "LayoutModel",
          "model_module_version": "1.2.0",
          "state": {
            "_model_module": "@jupyter-widgets/base",
            "_model_module_version": "1.2.0",
            "_model_name": "LayoutModel",
            "_view_count": null,
            "_view_module": "@jupyter-widgets/base",
            "_view_module_version": "1.2.0",
            "_view_name": "LayoutView",
            "align_content": null,
            "align_items": null,
            "align_self": null,
            "border": null,
            "bottom": null,
            "display": null,
            "flex": null,
            "flex_flow": null,
            "grid_area": null,
            "grid_auto_columns": null,
            "grid_auto_flow": null,
            "grid_auto_rows": null,
            "grid_column": null,
            "grid_gap": null,
            "grid_row": null,
            "grid_template_areas": null,
            "grid_template_columns": null,
            "grid_template_rows": null,
            "height": null,
            "justify_content": null,
            "justify_items": null,
            "left": null,
            "margin": null,
            "max_height": null,
            "max_width": null,
            "min_height": null,
            "min_width": null,
            "object_fit": null,
            "object_position": null,
            "order": null,
            "overflow": null,
            "overflow_x": null,
            "overflow_y": null,
            "padding": null,
            "right": null,
            "top": null,
            "visibility": null,
            "width": null
          }
        },
        "cef151ee68c7402c839cfc890cfa037f": {
          "model_module": "@jupyter-widgets/controls",
          "model_name": "ProgressStyleModel",
          "model_module_version": "1.5.0",
          "state": {
            "_model_module": "@jupyter-widgets/controls",
            "_model_module_version": "1.5.0",
            "_model_name": "ProgressStyleModel",
            "_view_count": null,
            "_view_module": "@jupyter-widgets/base",
            "_view_module_version": "1.2.0",
            "_view_name": "StyleView",
            "bar_color": null,
            "description_width": ""
          }
        },
        "bfae2c8c1e7a44dea6978722762338b6": {
          "model_module": "@jupyter-widgets/base",
          "model_name": "LayoutModel",
          "model_module_version": "1.2.0",
          "state": {
            "_model_module": "@jupyter-widgets/base",
            "_model_module_version": "1.2.0",
            "_model_name": "LayoutModel",
            "_view_count": null,
            "_view_module": "@jupyter-widgets/base",
            "_view_module_version": "1.2.0",
            "_view_name": "LayoutView",
            "align_content": null,
            "align_items": null,
            "align_self": null,
            "border": null,
            "bottom": null,
            "display": null,
            "flex": null,
            "flex_flow": null,
            "grid_area": null,
            "grid_auto_columns": null,
            "grid_auto_flow": null,
            "grid_auto_rows": null,
            "grid_column": null,
            "grid_gap": null,
            "grid_row": null,
            "grid_template_areas": null,
            "grid_template_columns": null,
            "grid_template_rows": null,
            "height": null,
            "justify_content": null,
            "justify_items": null,
            "left": null,
            "margin": null,
            "max_height": null,
            "max_width": null,
            "min_height": null,
            "min_width": null,
            "object_fit": null,
            "object_position": null,
            "order": null,
            "overflow": null,
            "overflow_x": null,
            "overflow_y": null,
            "padding": null,
            "right": null,
            "top": null,
            "visibility": null,
            "width": null
          }
        },
        "c6e280e5e601429a9066691fc474d3d6": {
          "model_module": "@jupyter-widgets/controls",
          "model_name": "DescriptionStyleModel",
          "model_module_version": "1.5.0",
          "state": {
            "_model_module": "@jupyter-widgets/controls",
            "_model_module_version": "1.5.0",
            "_model_name": "DescriptionStyleModel",
            "_view_count": null,
            "_view_module": "@jupyter-widgets/base",
            "_view_module_version": "1.2.0",
            "_view_name": "StyleView",
            "description_width": ""
          }
        }
      }
    }
  },
  "cells": [
    {
      "cell_type": "code",
      "execution_count": null,
      "metadata": {
        "id": "d8-t5vM5rX8p"
      },
      "outputs": [],
      "source": [
        "import torch\n",
        "from tqdm.notebook import tqdm\n",
        "import torch.nn as nn\n",
        "import torch.optim as optim\n",
        "import numpy as np\n",
        "from torchvision import datasets,transforms\n",
        "from torch.utils.tensorboard import SummaryWriter\n",
        "from torch.utils.data import DataLoader\n",
        "import time\n",
        "import copy\n",
        "import torch.nn.functional as F\n",
        "import copy\n",
        "from torch import autograd\n",
        "import itertools\n",
        "torch.backends.cudnn.enabled = True\n",
        "torch.backends.cudnn.benchmark = True"
      ]
    },
    {
      "cell_type": "markdown",
      "source": [
        "I have adopted the code from https://github.com/TinfoilHat0/Learning-to-Reweight-Examples-for-Robust-Deep-Learning-with-PyTorch-Higher and modified for different architectures on various benchmark datasets."
      ],
      "metadata": {
        "id": "E6kju6l2Y9YR"
      }
    },
    {
      "cell_type": "code",
      "source": [
        "!pip install higher"
      ],
      "metadata": {
        "colab": {
          "base_uri": "https://localhost:8080/"
        },
        "id": "srTNEbTaspMR",
        "outputId": "c61e12d2-c85b-45ec-9f29-62c346c4e54e"
      },
      "execution_count": null,
      "outputs": [
        {
          "output_type": "stream",
          "name": "stdout",
          "text": [
            "Collecting higher\n",
            "  Downloading higher-0.2.1-py3-none-any.whl (27 kB)\n",
            "Requirement already satisfied: torch in /usr/local/lib/python3.7/dist-packages (from higher) (1.10.0+cu111)\n",
            "Requirement already satisfied: typing-extensions in /usr/local/lib/python3.7/dist-packages (from torch->higher) (4.1.1)\n",
            "Installing collected packages: higher\n",
            "Successfully installed higher-0.2.1\n"
          ]
        }
      ]
    },
    {
      "cell_type": "code",
      "source": [
        "import higher"
      ],
      "metadata": {
        "id": "5KoY9y8ctIuo"
      },
      "execution_count": null,
      "outputs": []
    },
    {
      "cell_type": "code",
      "source": [
        "class LeNet5(torch.nn.Module):          \n",
        "    def __init__(self):     \n",
        "        super(LeNet5, self).__init__()\n",
        "        # Convolution (In LeNet-5, 32x32 images are given as input. Hence padding of 2 is done below)\n",
        "        self.conv1 = torch.nn.Conv2d(in_channels=3, out_channels=6, kernel_size=5, stride=1, padding=2, bias=True)\n",
        "        self.max_pool_1 = torch.nn.MaxPool2d(kernel_size=2)\n",
        "        self.conv2 = torch.nn.Conv2d(in_channels=6, out_channels=16, kernel_size=5, stride=1, padding=0, bias=True)\n",
        "        self.max_pool_2 = torch.nn.MaxPool2d(kernel_size=2) \n",
        "        self.fc1 = torch.nn.Linear(16*6*6, 120)   \n",
        "        self.fc2 = torch.nn.Linear(120, 84)\n",
        "        self.fc3 = torch.nn.Linear(84, 1)\n",
        "        \n",
        "    def forward(self, x):\n",
        "        x = F.relu(self.conv1(x))  \n",
        "        x = self.max_pool_1(x) \n",
        "        x = F.relu(self.conv2(x))\n",
        "        x = self.max_pool_2(x)\n",
        "        x = x.view(-1, 16*6*6)\n",
        "        x = F.relu(self.fc1(x))\n",
        "        x = F.relu(self.fc2(x))\n",
        "        x = self.fc3(x).squeeze()\n",
        "        return x"
      ],
      "metadata": {
        "id": "xxcrPJzetT7t"
      },
      "execution_count": null,
      "outputs": []
    },
    {
      "cell_type": "code",
      "source": [
        "# l = LeNet5()\n",
        "# print(l)"
      ],
      "metadata": {
        "id": "4ZKOSYdkcMBW"
      },
      "execution_count": null,
      "outputs": []
    },
    {
      "cell_type": "code",
      "source": [
        "class MnistResNet(nn.Module):\n",
        "  def __init__(self, in_channels=3):\n",
        "    super(MnistResNet, self).__init__()\n",
        "\n",
        "    # Load a pretrained resnet model from torchvision.models in Pytorch\n",
        "    self.model = models.resnet18(pretrained=True)\n",
        "\n",
        "    # Change the input layer to take Grayscale image, instead of RGB images. \n",
        "    # Hence in_channels is set as 1 or 3 respectively\n",
        "    # original definition of the first layer on the ResNet class\n",
        "    # self.conv1 = nn.Conv2d(3, 64, kernel_size=7, stride=2, padding=3, bias=False)\n",
        "    self.model.conv1 = nn.Conv2d(in_channels, 64, kernel_size=7, stride=2, padding=3, bias=False)\n",
        "    \n",
        "    # Change the output layer to output 10 classes instead of 1000 classes\n",
        "    num_ftrs = self.model.fc.in_features\n",
        "    self.model.fc = nn.Linear(num_ftrs, 1)\n",
        "\n",
        "  def forward(self, x):\n",
        "    return self.model(x)"
      ],
      "metadata": {
        "id": "tI-jef4dAMDV"
      },
      "execution_count": null,
      "outputs": []
    },
    {
      "cell_type": "code",
      "source": [
        "def get_loss_n_accuracy(model, criterion, data_loader, args, num_classes=2):\n",
        "    \"\"\" Returns the loss and total accuracy, per class accuracy on the supplied data loader \"\"\"\n",
        "    \n",
        "    criterion.reduction = 'mean'\n",
        "    model.eval()                                     \n",
        "    total_loss, correctly_labeled_samples = 0, 0\n",
        "    confusion_matrix = torch.zeros(num_classes, num_classes)\n",
        "    \n",
        "    # forward-pass to get loss and predictions of the current batch\n",
        "    for _, (inputs, labels) in enumerate(data_loader):\n",
        "        inputs, labels = inputs.to(device=args['device'], non_blocking=True),\\\n",
        "                labels.to(device=args['device'], non_blocking=True)\n",
        "        #labels =labels.unsqueeze(1)                                  \n",
        "        # compute the total loss over minibatch\n",
        "        outputs = model(inputs)\n",
        "        avg_minibatch_loss = criterion(outputs, labels.type_as(outputs))\n",
        "        total_loss += avg_minibatch_loss.item()*outputs.shape[0]\n",
        "                        \n",
        "        # get num of correctly predicted inputs in the current batch\n",
        "        pred_labels = (torch.sigmoid(outputs) > 0.5).int()\n",
        "        correctly_labeled_samples += torch.sum(torch.eq(pred_labels.view(-1), labels)).item()\n",
        "        # fill confusion_matrix\n",
        "        for t, p in zip(labels.view(-1), pred_labels.view(-1)):\n",
        "            confusion_matrix[t.long(), p.long()] += 1\n",
        "                                \n",
        "    avg_loss = total_loss / len(data_loader.dataset)\n",
        "    accuracy = correctly_labeled_samples / len(data_loader.dataset)\n",
        "    per_class_accuracy = confusion_matrix.diag() / confusion_matrix.sum(1)\n",
        "    return avg_loss, (accuracy, per_class_accuracy)"
      ],
      "metadata": {
        "id": "0zStNG1FtXzJ"
      },
      "execution_count": null,
      "outputs": []
    },
    {
      "cell_type": "code",
      "source": [
        "def get_imbalanced_datasets(train_dataset, test_dataset, imbalance=0.995, train_size=5000, meta_size=10):\n",
        "    # returns an imbalanced mnist dataset of 9 and 4s where imbalance favors 9s\n",
        "    \n",
        "    test_dataset.targets = np.asarray(test_dataset.targets)\n",
        "    train_dataset.targets =np.asarray(train_dataset.targets)\n",
        "    \n",
        "    # a balanced test dataset\n",
        "    print(np.count_nonzero(torch.from_numpy(train_dataset.targets) == 0))\n",
        "    print(np.count_nonzero(torch.from_numpy(train_dataset.targets) == 6))\n",
        "    test_9_idxs = torch.from_numpy(test_dataset.targets) == 0\n",
        "    print(test_dataset.targets)\n",
        "    test_4_idxs = torch.from_numpy(test_dataset.targets) == 6\n",
        "    test_9_data = test_dataset.data[test_9_idxs][:982]\n",
        "    test_4_data = test_dataset.data[test_4_idxs][:982] # num of 4 samples \n",
        "    test_data = np.concatenate((test_9_data, test_4_data))\n",
        "    test_targets = np.concatenate((torch.ones(len(test_9_data))*1, torch.ones(len(test_4_data))*0 ))\n",
        "    test_dataset.data = test_data\n",
        "    test_dataset.targets = test_targets\n",
        "\n",
        "    # imbalanced training dataset\n",
        "    n_9s = int(train_size * imbalance)\n",
        "    n_4s = train_size - n_9s\n",
        "    train_9_idxs = torch.from_numpy(train_dataset.targets) == 0\n",
        "    train_4_idxs = torch.from_numpy(train_dataset.targets) == 6 \n",
        "    train_9_data = train_dataset.data[train_9_idxs][:n_9s]\n",
        "    train_4_data = train_dataset.data[train_4_idxs][:n_4s]\n",
        "    train_data = np.concatenate((train_9_data, train_4_data))\n",
        "    train_targets = np.concatenate((torch.ones(len(train_9_data))*1, torch.ones(len(train_4_data))*0 ))\n",
        "    train_dataset.data = train_data\n",
        "    train_dataset.targets = train_targets\n",
        "    \n",
        "    # a balanced meta dataset for weighting samples (which is subset of training dataset)\n",
        "    # note that we have relabed 9s as 1 and 4s as 0\n",
        "    meta_dataset = copy.deepcopy(train_dataset)\n",
        "    meta_dataset.targets =np.asarray(meta_dataset.targets)\n",
        "    meta_9_idxs = torch.from_numpy(meta_dataset.targets) == 1\n",
        "    meta_4_idxs = torch.from_numpy(meta_dataset.targets) == 0\n",
        "    meta_9_data = meta_dataset.data[meta_9_idxs][:(meta_size // 2)]\n",
        "    meta_4_data = meta_dataset.data[meta_4_idxs][:(meta_size // 2)]\n",
        "    meta_data = np.concatenate((meta_9_data, meta_4_data))\n",
        "    meta_dataset.data = meta_data\n",
        "    meta_targets = np.concatenate( (torch.ones(len(meta_9_data))*1, torch.ones(len(meta_4_data))*0 ) )\n",
        "    meta_dataset.targets = meta_targets\n",
        "    \n",
        "    return train_dataset, meta_dataset, test_dataset   "
      ],
      "metadata": {
        "id": "CpCsJuyytadW"
      },
      "execution_count": null,
      "outputs": []
    },
    {
      "cell_type": "code",
      "source": [
        "args = {'bs':100, 'lr':1e-3, 'n_epochs':150, 'device':'cuda:0'}"
      ],
      "metadata": {
        "id": "6qhGBxLRtha6"
      },
      "execution_count": null,
      "outputs": []
    },
    {
      "cell_type": "code",
      "source": [
        "transform = transforms.Compose([transforms.ToTensor(),transforms.Normalize((0.4914, 0.4822, 0.4465), (0.2023, 0.1994, 0.2010))])\n",
        "train_dataset = torchvision.datasets.CIFAR10(\n",
        "    root='./data', train=True, download=True, transform=transform_train)\n",
        "\n",
        "test_dataset = torchvision.datasets.CIFAR10(\n",
        "    root='./data', train=False, download=True, transform=transform_test)\n",
        "\n",
        "classes = ['plane', 'car', 'bird', 'cat', 'deer',\n",
        "           'dog', 'frog', 'horse', 'ship', 'truck']\n",
        "train_dataset, meta_dataset, test_dataset = get_imbalanced_datasets(train_dataset, test_dataset)"
      ],
      "metadata": {
        "id": "O4icXwTstjke",
        "colab": {
          "base_uri": "https://localhost:8080/"
        },
        "outputId": "1f5f6d09-b4a1-4da1-9f82-8119d053e7a8"
      },
      "execution_count": null,
      "outputs": [
        {
          "output_type": "stream",
          "name": "stdout",
          "text": [
            "Files already downloaded and verified\n",
            "Files already downloaded and verified\n",
            "5000\n",
            "5000\n",
            "[3 8 8 ... 5 1 7]\n"
          ]
        }
      ]
    },
    {
      "cell_type": "code",
      "source": [
        "train_loader = DataLoader(train_dataset, batch_size=args['bs'], shuffle=True, num_workers=0, pin_memory=True)\n",
        "test_loader =  DataLoader(test_dataset, batch_size=args['bs'], shuffle=False, num_workers=0, pin_memory=True)\n",
        "meta_loader = DataLoader(meta_dataset, batch_size=args['bs'], shuffle=True, pin_memory=True)\n",
        "meta_loader = itertools.cycle(meta_loader)"
      ],
      "metadata": {
        "id": "QC31CnezttNi"
      },
      "execution_count": null,
      "outputs": []
    },
    {
      "cell_type": "code",
      "source": [
        "from torchvision import transforms, utils, models\n",
        "model = LeNet5().to(args['device'])\n",
        "opt = optim.SGD(model.parameters(), lr=args['lr'])\n",
        "criterion = nn.BCEWithLogitsLoss().to(args['device'])"
      ],
      "metadata": {
        "id": "oYhAwgM4tyN9"
      },
      "execution_count": null,
      "outputs": []
    },
    {
      "cell_type": "code",
      "source": [
        "start_time, end_time = torch.cuda.Event(enable_timing=True),\\\n",
        "                        torch.cuda.Event(enable_timing=True)\n",
        "start_time.record()"
      ],
      "metadata": {
        "id": "FIKG4dZJxe1s"
      },
      "execution_count": null,
      "outputs": []
    },
    {
      "cell_type": "code",
      "source": [
        "for ep in tqdm(range(1, args['n_epochs']+1)):\n",
        "    model.train()\n",
        "    train_loss, train_acc = 0, 0\n",
        "    for _, (inputs, labels) in enumerate(train_loader):\n",
        "        inputs, labels = inputs.to(device=args['device'], non_blocking=True),\\\n",
        "                            labels.to(device=args['device'], non_blocking=True)\n",
        "        #labels =labels.unsqueeze(1)  \n",
        "        opt.zero_grad()\n",
        "        outputs = model(inputs)\n",
        "        minibatch_loss = criterion(outputs, labels.type_as(outputs))\n",
        "        minibatch_loss.backward()\n",
        "        opt.step()\n",
        "\n",
        "        # keep track of epoch loss/accuracy\n",
        "        train_loss += minibatch_loss.item()*outputs.shape[0]\n",
        "        pred_labels = (torch.sigmoid(outputs) > 0.5).int()\n",
        "        train_acc += torch.sum(torch.eq(pred_labels, labels)).item()\n",
        "        \n",
        "    # inference after epoch\n",
        "    with torch.no_grad():\n",
        "        train_loss, train_acc = train_loss/len(train_dataset), train_acc/len(train_dataset)       \n",
        "        test_loss, (test_acc, test_per_class_acc) = get_loss_n_accuracy(model, criterion, test_loader, args)                                  \n",
        "        # log/print data\n",
        "        # writer.add_scalar('Test/Loss', test_loss, ep)\n",
        "        # writer.add_scalar('Test/Accuracy', test_acc, ep)\n",
        "        # writer.add_scalar('Training/Loss', train_loss, ep)\n",
        "        # writer.add_scalar('Training/Accuracy', train_acc, ep)\n",
        "        Train_loss=[]\n",
        "        Train_acc=[]\n",
        "        Test_loss=[]\n",
        "        Test_acc=[]\n",
        "        Train_loss.append(train_loss)   \n",
        "        Train_acc.append(train_acc)      \n",
        "        Test_acc.append(test_acc)     \n",
        "        Test_loss.append(test_loss)\n",
        "print(f'|Train/Test Loss: {train_loss:.3f} / {test_loss:.3f}|')\n",
        "print(f'|Train/Test Acc: {train_acc:.3f} / {test_acc:.3f}|')    "
      ],
      "metadata": {
        "colab": {
          "base_uri": "https://localhost:8080/",
          "height": 84,
          "referenced_widgets": [
            "3cd5ae67c5644b83900ed7319ca722f5",
            "db9d3cd14972445cb4c158d1b9b7fcb2",
            "bf46e7ce4da441c3a6b65cfdefb1e498",
            "8399a832b0df4d5cb10dbc8072cf07f9",
            "ec7b4a1048b14335a34050efdcc4f314",
            "9bf44cd614df4d268f06fd53aae45b56",
            "7dcea11a77d34b67b9fe3880c136e7da",
            "f0dcd3b6b1914adabd2a868865083ab6",
            "18ee68968168410fb92c7e8607c06238",
            "71de181a6aa9434d8b4fad0c83dac190",
            "e3b875f2533244a19ecae6fdbc1a1513"
          ]
        },
        "id": "er8O3oY0vVkB",
        "outputId": "9aabd24f-a1a5-467c-94a2-380420f17ad9"
      },
      "execution_count": null,
      "outputs": [
        {
          "output_type": "display_data",
          "data": {
            "text/plain": [
              "  0%|          | 0/150 [00:00<?, ?it/s]"
            ],
            "application/vnd.jupyter.widget-view+json": {
              "version_major": 2,
              "version_minor": 0,
              "model_id": "3cd5ae67c5644b83900ed7319ca722f5"
            }
          },
          "metadata": {}
        },
        {
          "output_type": "stream",
          "name": "stdout",
          "text": [
            "|Train/Test Loss: 0.027 / 2.028|\n",
            "|Train/Test Acc: 0.995 / 0.500|\n"
          ]
        }
      ]
    },
    {
      "cell_type": "code",
      "source": [
        "end_time.record()\n",
        "torch.cuda.synchronize()\n",
        "time_elapsed_secs = start_time.elapsed_time(end_time)/10**3\n",
        "time_elapsed_mins = time_elapsed_secs/60\n",
        "print(f'Training took {time_elapsed_secs:.2f} seconds / {time_elapsed_mins:.2f} minutes')"
      ],
      "metadata": {
        "colab": {
          "base_uri": "https://localhost:8080/"
        },
        "id": "AqtTOsysvcVN",
        "outputId": "d589ae6c-3aa4-4293-ff76-d16664ea6896"
      },
      "execution_count": null,
      "outputs": [
        {
          "output_type": "stream",
          "name": "stdout",
          "text": [
            "Training took 598.91 seconds / 9.98 minutes\n"
          ]
        }
      ]
    },
    {
      "cell_type": "code",
      "source": [
        "end_time.record()\n",
        "torch.cuda.synchronize()\n",
        "time_elapsed_secs = start_time.elapsed_time(end_time)/10**3\n",
        "time_elapsed_mins = time_elapsed_secs/60\n",
        "print(f'Training took {time_elapsed_secs:.2f} seconds / {time_elapsed_mins:.2f} minutes')"
      ],
      "metadata": {
        "colab": {
          "base_uri": "https://localhost:8080/"
        },
        "id": "H_VUJ1VHwdeL",
        "outputId": "06785c51-028e-44ef-b8ea-d5dca50f2ad5"
      },
      "execution_count": null,
      "outputs": [
        {
          "output_type": "stream",
          "name": "stdout",
          "text": [
            "Training took 600.06 seconds / 10.00 minutes\n"
          ]
        }
      ]
    },
    {
      "cell_type": "code",
      "source": [
        "for ep in tqdm(range(1, args['n_epochs']+1)):\n",
        "    model.train()\n",
        "    train_loss, train_acc = 0, 0\n",
        "    for _, (inputs, labels) in enumerate(train_loader):\n",
        "        inputs, labels = inputs.to(device=args['device'], non_blocking=True),\\\n",
        "                            labels.to(device=args['device'], non_blocking=True)\n",
        "        #labels =labels.unsqueeze(1)  \n",
        "        opt.zero_grad()\n",
        "        with higher.innerloop_ctx(model, opt) as (meta_model, meta_opt):\n",
        "            # 1. Update meta model on training data\n",
        "            meta_train_outputs = meta_model(inputs)\n",
        "            criterion.reduction = 'none'\n",
        "            meta_train_loss = criterion(meta_train_outputs, labels.type_as(outputs))\n",
        "            eps = torch.zeros(meta_train_loss.size(), requires_grad=True, device=args['device'])\n",
        "            meta_train_loss = torch.sum(eps * meta_train_loss)\n",
        "            meta_opt.step(meta_train_loss)\n",
        "\n",
        "            # 2. Compute grads of eps on meta validation data\n",
        "            meta_inputs, meta_labels =  next(meta_loader)\n",
        "            #meta_labels =meta_labels.unsqueeze(1)  \n",
        "            meta_inputs, meta_labels = meta_inputs.to(device=args['device'], non_blocking=True),\\\n",
        "                             meta_labels.to(device=args['device'], non_blocking=True)\n",
        "\n",
        "            meta_val_outputs = meta_model(meta_inputs)\n",
        "            criterion.reduction = 'mean'\n",
        "            meta_val_loss = criterion(meta_val_outputs, meta_labels.type_as(outputs))\n",
        "            eps_grads = torch.autograd.grad(meta_val_loss, eps)[0].detach()\n",
        "\n",
        "        # 3. Compute weights for current training batch\n",
        "        w_tilde = torch.clamp(-eps_grads, min=0)\n",
        "        l1_norm = torch.sum(w_tilde)\n",
        "        if l1_norm != 0:\n",
        "            w = w_tilde / l1_norm\n",
        "        else:\n",
        "            w = w_tilde\n",
        "\n",
        "        # 4. Train model on weighted batch\n",
        "        outputs = model(inputs)\n",
        "        criterion.reduction = 'none'\n",
        "        minibatch_loss = criterion(outputs, labels.type_as(outputs))\n",
        "        minibatch_loss = torch.sum(w * minibatch_loss)\n",
        "        minibatch_loss.backward()\n",
        "        opt.step()\n",
        "\n",
        "        # keep track of epoch loss/accuracy\n",
        "        train_loss += minibatch_loss.item()*outputs.shape[0]\n",
        "        pred_labels = (torch.sigmoid(outputs) > 0.5).int()\n",
        "        train_acc += torch.sum(torch.eq(pred_labels, labels)).item()\n",
        "\n",
        "    # inference after epoch\n",
        "    with torch.no_grad():\n",
        "        train_loss, train_acc = train_loss/len(train_dataset), train_acc/len(train_dataset)       \n",
        "        test_loss, (test_acc, test_per_class_acc) = get_loss_n_accuracy(model, criterion, test_loader, args)  \n",
        "        Train_loss_m=[]\n",
        "        Train_acc_m=[]\n",
        "        Test_loss_m=[]\n",
        "        Test_acc_m=[]  \n",
        "        Train_loss_m.append(train_loss)   \n",
        "        Train_acc_m.append(train_acc)      \n",
        "        Test_acc_m.append(test_acc)     \n",
        "        Test_loss_m.append(test_loss)                               \n",
        "        # log/print data\n",
        "        #writer.add_scalar('Test/M_Loss', test_loss, ep)\n",
        "        #writer.add_scalar('Test/M_Accuracy', test_acc, ep)\n",
        "        #writer.add_scalar('Training/M_Loss', train_loss, ep)\n",
        "        #writer.add_scalar('Training/M_Accuracy', train_acc, ep)\n",
        "print(f'|Train/Test Loss: {train_loss:.3f} / {test_loss:.3f}|')\n",
        "print(f'|Train/Test Acc: {train_acc:.3f} / {test_acc:.3f}|')   "
      ],
      "metadata": {
        "colab": {
          "base_uri": "https://localhost:8080/",
          "height": 84,
          "referenced_widgets": [
            "179c0ac753fc4cddadd83165176e7d12",
            "d6955c64a4f149608a204f1fbb339d46",
            "4a9e5b6be66248348136350e2556d0bb",
            "e51f891923344141aa7ba0b82dd100e3",
            "24c1838f540342a7bbdb78f67315bd36",
            "b9b426bbe0ab41f88a7519f8fb9c00de",
            "46b02414810b49b8a3ee7550730b0aa8",
            "978ef7237a0a4cdb83de33b2f5ec2bea",
            "e7a33323a6af4967bc8f8dc8883c2705",
            "e5f64f79741a4645bda35c56e30e96d1",
            "af41bcd71442475b9fea1ca4b0a1b6ea"
          ]
        },
        "id": "pXUI1cCEwga2",
        "outputId": "9c7c48ea-e37e-4213-940c-987fe1515630"
      },
      "execution_count": null,
      "outputs": [
        {
          "output_type": "display_data",
          "data": {
            "text/plain": [
              "  0%|          | 0/150 [00:00<?, ?it/s]"
            ],
            "application/vnd.jupyter.widget-view+json": {
              "version_major": 2,
              "version_minor": 0,
              "model_id": "179c0ac753fc4cddadd83165176e7d12"
            }
          },
          "metadata": {}
        },
        {
          "output_type": "stream",
          "name": "stdout",
          "text": [
            "|Train/Test Loss: 0.192 / 0.428|\n",
            "|Train/Test Acc: 0.919 / 0.862|\n"
          ]
        }
      ]
    },
    {
      "cell_type": "code",
      "source": [
        "end_time.record()\n",
        "torch.cuda.synchronize()\n",
        "time_elapsed_secs = start_time.elapsed_time(end_time)/10**3\n",
        "time_elapsed_mins = time_elapsed_secs/60\n",
        "print(f'Training took {time_elapsed_secs:.2f} seconds / {time_elapsed_mins:.2f} minutes')"
      ],
      "metadata": {
        "colab": {
          "base_uri": "https://localhost:8080/"
        },
        "id": "hk8T3QgYw9Fq",
        "outputId": "f87d8079-2ca2-4be7-d8d8-bc7c4169ef9a"
      },
      "execution_count": null,
      "outputs": [
        {
          "output_type": "stream",
          "name": "stdout",
          "text": [
            "Training took 2037.01 seconds / 33.95 minutes\n"
          ]
        }
      ]
    },
    {
      "cell_type": "code",
      "source": [
        "print(len(Train_loss))"
      ],
      "metadata": {
        "colab": {
          "base_uri": "https://localhost:8080/"
        },
        "id": "7Zu8uyW3-hFa",
        "outputId": "fe161369-7b71-49b5-b367-eadb86cd4990"
      },
      "execution_count": null,
      "outputs": [
        {
          "output_type": "stream",
          "name": "stdout",
          "text": [
            "150\n"
          ]
        }
      ]
    },
    {
      "cell_type": "code",
      "source": [
        "import matplotlib.pyplot as plt\n",
        "ep = np.linspace(1,len(Train_loss),len(Train_loss))\n",
        "plt.plot(ep, Train_loss,'r', label ='baseline')\n",
        "plt.plot(ep,Train_loss_m,'b', label='model')\n",
        "plt.title(\"Training loss\")\n",
        "plt.legend()\n",
        "plt.grid()\n",
        "plt.show()"
      ],
      "metadata": {
        "colab": {
          "base_uri": "https://localhost:8080/",
          "height": 281
        },
        "id": "1ZKbuzRcm-1w",
        "outputId": "ec2ca1c0-b736-4308-d7b1-906b1127793f"
      },
      "execution_count": null,
      "outputs": [
        {
          "output_type": "display_data",
          "data": {
            "text/plain": [
              "<Figure size 432x288 with 1 Axes>"
            ],
            "image/png": "[encoded data removed]"
          },
          "metadata": {
            "needs_background": "light"
          }
        }
      ]
    },
    {
      "cell_type": "code",
      "source": [
        "plt.plot(ep, Test_loss,'r', label ='baseline')\n",
        "plt.plot(ep,Test_loss_m,'b', label='our model')\n",
        "plt.title(\"Test loss\")\n",
        "plt.legend()\n",
        "plt.grid()\n",
        "plt.show()"
      ],
      "metadata": {
        "colab": {
          "base_uri": "https://localhost:8080/",
          "height": 281
        },
        "id": "-mxjc4ybogYi",
        "outputId": "8e936d70-e985-42aa-c2bf-e90b39e3799b"
      },
      "execution_count": null,
      "outputs": [
        {
          "output_type": "display_data",
          "data": {
            "text/plain": [
              "<Figure size 432x288 with 1 Axes>"
            ],
            "image/png": "[encoded data removed]"
          },
          "metadata": {
            "needs_background": "light"
          }
        }
      ]
    },
    {
      "cell_type": "code",
      "source": [
        "plt.plot(ep, Train_acc,'r', label ='baseline')\n",
        "plt.plot(ep,Train_acc_m,'b', label='our model')\n",
        "plt.title(\"Training Accuracy\")\n",
        "plt.legend()\n",
        "plt.grid()\n",
        "plt.show()"
      ],
      "metadata": {
        "colab": {
          "base_uri": "https://localhost:8080/",
          "height": 281
        },
        "id": "-UOA-MY4ouTW",
        "outputId": "07afd232-a4ce-4975-9412-69c6c4a36db9"
      },
      "execution_count": null,
      "outputs": [
        {
          "output_type": "display_data",
          "data": {
            "text/plain": [
              "<Figure size 432x288 with 1 Axes>"
            ],
            "image/png": "[encoded data removed]"
          },
          "metadata": {
            "needs_background": "light"
          }
        }
      ]
    },
    {
      "cell_type": "code",
      "source": [
        "plt.plot(ep, Test_acc,'r', label ='baseline')\n",
        "plt.plot(ep,Test_acc_m,'b', label='our model')\n",
        "plt.title(\"Test Accuracy\")\n",
        "plt.legend()\n",
        "plt.grid()\n",
        "plt.show()"
      ],
      "metadata": {
        "colab": {
          "base_uri": "https://localhost:8080/",
          "height": 281
        },
        "id": "Pm5Bt8BEoyiV",
        "outputId": "e87f0b54-4c00-4934-f5c7-2bbd9d06fb65"
      },
      "execution_count": null,
      "outputs": [
        {
          "output_type": "display_data",
          "data": {
            "text/plain": [
              "<Figure size 432x288 with 1 Axes>"
            ],
            "image/png": "[encoded data removed]"
          },
          "metadata": {
            "needs_background": "light"
          }
        }
      ]
    },
    {
      "cell_type": "markdown",
      "source": [
        "The results from the plots can be interpreted as:<br>\n",
        "LeNet is used and we can see that our model's loss is lower than baseline's loss and our model accuracy's is higher than baseline's accuracy."
      ],
      "metadata": {
        "id": "QcNqTV-vpFEw"
      }
    },
    {
      "cell_type": "markdown",
      "source": [
        "The below code sample is written for testing label noise with reweighting algorithm. It is modified accordingly for MNIST, FashionMNIST and CIFAR-10 datasets.\n"
      ],
      "metadata": {
        "id": "1BQ3ucH_Zgee"
      }
    },
    {
      "cell_type": "code",
      "source": [
        "import torchvision\n",
        "import torch\n",
        "import torch.nn as nn\n",
        "import torch.nn.functional as F\n",
        "from torchvision import datasets,transforms\n",
        "import torchvision.transforms as transforms\n",
        "transforms = transforms.Compose([transforms.ToTensor(), transforms.Normalize((0.1307,), (0.3081,))])\n",
        "train_data = datasets.MNIST('data', train=True, download=True, transform=transforms)\n",
        "test_data = datasets.MNIST('data', train=False, download=True, transform=transforms)"
      ],
      "metadata": {
        "id": "KwKN-dJz1xXC"
      },
      "execution_count": null,
      "outputs": []
    },
    {
      "cell_type": "code",
      "source": [
        "import torch\n",
        "import torch.nn as nn\n",
        "import torch.optim as optim\n",
        "import torch.nn.functional as F\n",
        "import torch.backends.cudnn as cudnn\n",
        "\n",
        "import torchvision\n",
        "import torchvision.transforms as transforms\n",
        "\n",
        "transform_train = transforms.Compose([\n",
        "    transforms.RandomCrop(32, padding=4),\n",
        "    transforms.RandomHorizontalFlip(),\n",
        "    transforms.ToTensor(),\n",
        "    transforms.Normalize((0.4914, 0.4822, 0.4465), (0.2023, 0.1994, 0.2010)),\n",
        "])\n",
        "\n",
        "transform_test = transforms.Compose([\n",
        "    transforms.ToTensor(),\n",
        "    transforms.Normalize((0.4914, 0.4822, 0.4465), (0.2023, 0.1994, 0.2010)),\n",
        "])\n",
        "\n",
        "train_data = torchvision.datasets.CIFAR10(\n",
        "    root='./data', train=True, download=True, transform=transform_train)\n",
        "\n",
        "test_data = torchvision.datasets.CIFAR10(\n",
        "    root='./data', train=False, download=True, transform=transform_test)\n",
        "\n",
        "classes = ['plane', 'car', 'bird', 'cat', 'deer',\n",
        "           'dog', 'frog', 'horse', 'ship', 'truck']"
      ],
      "metadata": {
        "colab": {
          "base_uri": "https://localhost:8080/",
          "height": 101,
          "referenced_widgets": [
            "0dee87a4c6884f1db7e84b37dcc22033",
            "f39bbebb7c3045f38a8158e989216f83",
            "449bd57de34346f890eb72a06282a1f9",
            "c002786f77cd414a88d0be6473676c90",
            "c27eff013c9f4b1f8f8f02ffeb250111",
            "1da51256c8bc47f7bdfdbae168ede4e4",
            "9e03c3c286434a278d1daef4ba5943e3",
            "ef5cb00180264b739df79c8495cdcf56",
            "cef151ee68c7402c839cfc890cfa037f",
            "bfae2c8c1e7a44dea6978722762338b6",
            "c6e280e5e601429a9066691fc474d3d6"
          ]
        },
        "id": "tk7hngAL9uON",
        "outputId": "0d6a9c22-e0fd-4063-ad49-b1a567fd70fe"
      },
      "execution_count": null,
      "outputs": [
        {
          "output_type": "stream",
          "name": "stdout",
          "text": [
            "Downloading https://www.cs.toronto.edu/~kriz/cifar-10-python.tar.gz to ./data/cifar-10-python.tar.gz\n"
          ]
        },
        {
          "output_type": "display_data",
          "data": {
            "text/plain": [
              "  0%|          | 0/170498071 [00:00<?, ?it/s]"
            ],
            "application/vnd.jupyter.widget-view+json": {
              "version_major": 2,
              "version_minor": 0,
              "model_id": "0dee87a4c6884f1db7e84b37dcc22033"
            }
          },
          "metadata": {}
        },
        {
          "output_type": "stream",
          "name": "stdout",
          "text": [
            "Extracting ./data/cifar-10-python.tar.gz to ./data\n",
            "Files already downloaded and verified\n"
          ]
        }
      ]
    },
    {
      "cell_type": "code",
      "source": [
        "!pip install higher"
      ],
      "metadata": {
        "colab": {
          "base_uri": "https://localhost:8080/"
        },
        "id": "sQgz-vXlZKYN",
        "outputId": "99601f4d-0174-42fb-90cf-4ec5aca61616"
      },
      "execution_count": null,
      "outputs": [
        {
          "output_type": "stream",
          "name": "stdout",
          "text": [
            "Collecting higher\n",
            "  Downloading higher-0.2.1-py3-none-any.whl (27 kB)\n",
            "Requirement already satisfied: torch in /usr/local/lib/python3.7/dist-packages (from higher) (1.10.0+cu111)\n",
            "Requirement already satisfied: typing-extensions in /usr/local/lib/python3.7/dist-packages (from torch->higher) (4.1.1)\n",
            "Installing collected packages: higher\n",
            "Successfully installed higher-0.2.1\n"
          ]
        }
      ]
    },
    {
      "cell_type": "code",
      "source": [
        "model = nn.Sequential(nn.Linear(784, 128),\n",
        "                      nn.ReLU(),\n",
        "                      nn.Linear(128,64),\n",
        "                      nn.ReLU(),\n",
        "                      nn.Linear(64,10)).cuda()"
      ],
      "metadata": {
        "id": "2_QlZDvJ2NII"
      },
      "execution_count": null,
      "outputs": []
    },
    {
      "cell_type": "code",
      "source": [
        "args = {'bs':100, 'lr':1e-3, 'n_epochs':150, 'device':'cuda:0'}"
      ],
      "metadata": {
        "id": "ByvKsVSiY8h8"
      },
      "execution_count": null,
      "outputs": []
    },
    {
      "cell_type": "code",
      "source": [
        "import copy\n",
        "import random\n",
        "import numpy as np\n",
        "\n",
        "def create_noisy_dataset(original, extract_clean_per_class=100, noise_ratio=0.0):\n",
        "        num_classes = len(original.classes)\n",
        "        targets = np.array(original.targets)\n",
        "        clean_targets = clean_data = noisy_targets = noisy_data = None\n",
        "        for cls in range(num_classes):\n",
        "            class_mask = targets == cls\n",
        "            new_clean_targets = targets[class_mask][:extract_clean_per_class]\n",
        "            new_noisy_targets = targets[class_mask][extract_clean_per_class:]\n",
        "            num_noisy = int(noise_ratio * new_noisy_targets.shape[0])\n",
        "            random_noise = np.random.randint(0, num_classes, num_noisy)\n",
        "            other_classes = [i for i in range(num_classes) if i is not cls]\n",
        "            random_noise[random_noise == cls] = random.choice(other_classes)\n",
        "            new_noisy_targets[:num_noisy] = random_noise\n",
        "            new_clean_data = original.data[class_mask][:extract_clean_per_class]\n",
        "            new_noisy_data = original.data[class_mask][extract_clean_per_class:]\n",
        "            if clean_targets is None:\n",
        "                clean_targets = new_clean_targets\n",
        "                clean_data = new_clean_data\n",
        "                noisy_targets = new_noisy_targets\n",
        "                noisy_data = new_noisy_data\n",
        "            else:\n",
        "                clean_targets = np.concatenate([clean_targets, new_clean_targets])\n",
        "                clean_data = np.concatenate([clean_data, new_clean_data])\n",
        "                noisy_targets = np.concatenate([noisy_targets, new_noisy_targets])\n",
        "                noisy_data = np.concatenate([noisy_data, new_noisy_data])\n",
        "        clean = copy.deepcopy(original)\n",
        "        clean.data = clean_data\n",
        "        clean.targets = clean_targets\n",
        "        noisy = copy.deepcopy(original)\n",
        "        noisy.data = noisy_data\n",
        "        noisy.targets = noisy_targets\n",
        "        combined = copy.deepcopy(original)\n",
        "        combined.data = np.concatenate([clean_data, noisy_data])\n",
        "        combined.targets = np.concatenate([clean_targets, noisy_targets])\n",
        "        return clean, noisy, combined"
      ],
      "metadata": {
        "id": "ZzO89zPQ2egi"
      },
      "execution_count": null,
      "outputs": []
    },
    {
      "cell_type": "code",
      "source": [
        "import itertools\n",
        "from torch.utils.data import DataLoader\n",
        "\n",
        "clean_data, noisy_data, combined_data = create_noisy_dataset(train_data)\n",
        "\n",
        "combined_train_loader = DataLoader(combined_data, batch_size=128, shuffle=True, num_workers=0)\n",
        "clean_loader = DataLoader(clean_data, batch_size=128, shuffle=True, num_workers=0)\n",
        "clean_loader_loop = itertools.cycle(clean_loader)\n",
        "train_loader = DataLoader(noisy_data, batch_size=128, shuffle=True, num_workers=0)\n",
        "test_loader = DataLoader(test_data, batch_size=128, shuffle=False, num_workers=0)"
      ],
      "metadata": {
        "id": "OX39qdw62o0W"
      },
      "execution_count": null,
      "outputs": []
    },
    {
      "cell_type": "code",
      "source": [
        "import matplotlib.pyplot as plt\n",
        "\n",
        "for images, targets in combined_train_loader:\n",
        "    for i in range(18):\n",
        "        plt.subplot(3,6,i+1)\n",
        "        plt.imshow(images[i][0], cmap='gray')\n",
        "    plt.show() \n",
        "    \n",
        "    print([classes[i.item()] for i in targets[:6]])\n",
        "    print([classes[i.item()] for i in targets[6:12]])\n",
        "    print([classes[i.item()] for i in targets[12:18]])\n",
        "    break"
      ],
      "metadata": {
        "colab": {
          "base_uri": "https://localhost:8080/",
          "height": 304
        },
        "id": "F2mkFgyj2rjr",
        "outputId": "72429b90-15b3-4d84-d8b9-8b066f984f1d"
      },
      "execution_count": null,
      "outputs": [
        {
          "output_type": "display_data",
          "data": {
            "text/plain": [
              "<Figure size 432x288 with 18 Axes>"
            ],
            "image/png": "[encoded data removed]"
          },
          "metadata": {
            "needs_background": "light"
          }
        },
        {
          "output_type": "stream",
          "name": "stdout",
          "text": [
            "['ship', 'bird', 'car', 'deer', 'frog', 'car']\n",
            "['deer', 'car', 'car', 'car', 'ship', 'ship']\n",
            "['plane', 'plane', 'horse', 'deer', 'cat', 'horse']\n"
          ]
        }
      ]
    },
    {
      "cell_type": "code",
      "source": [
        "class Net(nn.Module):\n",
        "  def __init__(self):\n",
        "    super(Net, self).__init__()\n",
        "    self.conv1 = nn.Conv2d(3, 6, 5)\n",
        "    self.pool = nn.MaxPool2d(2, 2)\n",
        "    self.conv2 = nn.Conv2d(6, 16, 5)\n",
        "    self.fc1 = nn.Linear(16 * 5 * 5, 120)\n",
        "    self.fc2 = nn.Linear(120, 84)\n",
        "    self.fc3 = nn.Linear(84, 10)\n",
        "  def forward(self, x):\n",
        "    x = self.pool(F.relu(self.conv1(x)))\n",
        "    x = self.pool(F.relu(self.conv2(x)))\n",
        "    x = x.view(-1, 16 * 5 * 5)\n",
        "    x = F.relu(self.fc1(x))\n",
        "    x = F.relu(self.fc2(x))\n",
        "    x = self.fc3(x)\n",
        "    return x"
      ],
      "metadata": {
        "id": "4TVfaofwefkD"
      },
      "execution_count": null,
      "outputs": []
    },
    {
      "cell_type": "code",
      "source": [
        "import time\n",
        "trainacc_00=[]\n",
        "testacc_00=[]\n",
        "model = Net().to(args['device'])\n",
        "optimizer = torch.optim.Adam(model.parameters(), lr=0.001)\n",
        "ep =10\n",
        "for epoch in range(ep):\n",
        "    start_epoch = time.time()\n",
        "    correct = 0\n",
        "    for images, labels in combined_train_loader:\n",
        "        optimizer.zero_grad()\n",
        "        predictions = model(images.cuda())\n",
        "        loss = F.cross_entropy(predictions, labels.cuda())\n",
        "        loss.backward()\n",
        "        optimizer.step()\n",
        "        correct += (torch.argmax(predictions, dim=1) == labels.cuda()).sum().item()\n",
        "    #print(f\"Epoch {epoch} took {time.time() - start_epoch: {3}.{4}}s\")\n",
        "    trainacc_00.append(100 * correct / len(train_data))\n",
        "    \n",
        "    with torch.no_grad():\n",
        "        model.eval()\n",
        "        correct = 0\n",
        "        for images, labels in test_loader:\n",
        "            predictions = model(images.cuda())\n",
        "            correct += (torch.argmax(predictions, dim=1) == labels.cuda()).sum().item()\n",
        "        testacc_00.append(100 * correct / len(test_data))\n",
        "print(f\"Train accuracy: {100 * correct / len(train_data): {3}.{4}}%\")\n",
        "print(f\"Train loss: {loss.item(): {3}.{4}}\")\n",
        "print(f\"Test accuracy: {100 * correct / len(test_data): {3}.{4}}%\")\n",
        "tracc00=100 * correct / len(train_data)\n",
        "teacc00=100 * correct / len(test_data)"
      ],
      "metadata": {
        "colab": {
          "base_uri": "https://localhost:8080/"
        },
        "id": "jYUgXK312wNw",
        "outputId": "4a6de65e-8a73-4b50-9a6d-df9eac50261d"
      },
      "execution_count": null,
      "outputs": [
        {
          "output_type": "stream",
          "name": "stdout",
          "text": [
            "Train accuracy:  12.33%\n",
            "Train loss:  1.207\n",
            "Test accuracy:  61.65%\n"
          ]
        }
      ]
    },
    {
      "cell_type": "code",
      "source": [
        "import higher\n",
        "trainacc_00m=[]\n",
        "testacc_00m=[]\n",
        "model = Net().to(args['device'])\n",
        "optimizer = torch.optim.Adam(model.parameters(), lr=0.001)\n",
        "\n",
        "for epoch in range(10):\n",
        "    start_epoch = time.time()\n",
        "    model.train()\n",
        "    correct = 0\n",
        "    for images, labels in train_loader:\n",
        "        optimizer.zero_grad()\n",
        "        with higher.innerloop_ctx(model, optimizer) as (fmodel, diffopt):\n",
        "            predictions = fmodel(images.cuda())\n",
        "            loss = F.cross_entropy(predictions, labels.cuda(), reduction='none')\n",
        "            eps = torch.zeros_like(loss, requires_grad=True)\n",
        "            eps_weighted_loss = torch.sum(loss * eps)\n",
        "            diffopt.step(eps_weighted_loss)\n",
        "\n",
        "            clean_images, clean_labels = next(clean_loader_loop)\n",
        "            predictions_clean = fmodel(clean_images.cuda())\n",
        "            loss_clean = F.cross_entropy(predictions_clean, clean_labels.cuda())\n",
        "            grad_eps = torch.autograd.grad(loss_clean, eps)[0].detach()\n",
        "\n",
        "        weights = torch.clamp(-grad_eps, min=0)\n",
        "        weight_sum = torch.sum(weights)\n",
        "        if weight_sum > 0:  # avoid zero division\n",
        "            weights = weights / weight_sum\n",
        "\n",
        "        predictions = model(images.cuda())\n",
        "        loss = F.cross_entropy(predictions, labels.cuda(), reduction='none')\n",
        "        loss = torch.sum(weights * loss)\n",
        "        loss.backward()\n",
        "        optimizer.step()\n",
        "\n",
        "        correct += (torch.argmax(predictions, dim=1) == labels.cuda()).sum().item()\n",
        "    trainacc_00m.append(100 * correct / len(noisy_data))\n",
        "    #print(f\"Epoch {epoch} took {time.time() - start_epoch: {3}.{4}}s\")\n",
        "    \n",
        "    with torch.no_grad():\n",
        "        model.eval()\n",
        "        correct = 0\n",
        "        for images, labels in test_loader:\n",
        "            predictions = model(images.cuda())\n",
        "            correct += (torch.argmax(predictions, dim=1) == labels.cuda()).sum().item()\n",
        "        testacc_00m.append(100 * correct / len(test_data))\n",
        "print(f\"Train loss: {loss.item(): {3}.{4}}\")\n",
        "print(f\"Train accuracy: {100 * correct / len(noisy_data): {3}.{4}}%\")\n",
        "print(f\"Test accuracy: {100 * correct / len(test_data): {3}.{4}}%\")\n",
        "tracc00m=100 * correct / len(noisy_data)\n",
        "teacc00m=100 * correct / len(test_data)"
      ],
      "metadata": {
        "colab": {
          "base_uri": "https://localhost:8080/"
        },
        "id": "F5-N0oaa4Oxj",
        "outputId": "cccff64c-377c-4921-ce26-693c5cd64174"
      },
      "execution_count": null,
      "outputs": [
        {
          "output_type": "stream",
          "name": "stdout",
          "text": [
            "Train loss:  1.448\n",
            "Train accuracy:  11.33%\n",
            "Test accuracy:  55.51%\n"
          ]
        }
      ]
    },
    {
      "cell_type": "code",
      "source": [
        "trainnoiseb=[tracc00, tracc02,tracc04,tracc06,tracc08,tracc10]\n",
        "trainnoisem = [tracc00m,tracc02m,tracc04m,tracc06m,tracc08m,tracc10m]\n",
        "testnoiseb=[teacc00, teacc02,teacc04,teacc06,teacc08,teacc10]\n",
        "testnoisem = [teacc00m,teacc02m,teacc04m,teacc06m,teacc08m,teacc10m]\n",
        "n =[0,0.2,0.4,0.6,0.8,1.0]"
      ],
      "metadata": {
        "id": "0t9Q-q2x1U5e"
      },
      "execution_count": null,
      "outputs": []
    },
    {
      "cell_type": "code",
      "source": [
        "import matplotlib.pyplot as plt\n",
        "#ep = np.linspace(1,len(trainacc_01),len(trainacc_01))\n",
        "plt.plot(n,trainnoiseb,'--*r', label ='baseline')\n",
        "plt.plot(n,trainnoisem,'--o', label ='model')\n",
        "plt.title(\"CIFAR-10\")\n",
        "plt.xlabel(\"Noise ratio\")\n",
        "plt.ylabel(\"Training Accuracy(%)\")\n",
        "plt.legend()\n",
        "plt.grid()\n",
        "plt.show()"
      ],
      "metadata": {
        "colab": {
          "base_uri": "https://localhost:8080/",
          "height": 295
        },
        "id": "lf8u5cHq4XYf",
        "outputId": "bcaff4a8-e6ca-40b7-b6ca-458cb91d6c65"
      },
      "execution_count": null,
      "outputs": [
        {
          "output_type": "display_data",
          "data": {
            "text/plain": [
              "<Figure size 432x288 with 1 Axes>"
            ],
            "image/png": "[encoded data removed]"
          },
          "metadata": {
            "needs_background": "light"
          }
        }
      ]
    },
    {
      "cell_type": "code",
      "source": [
        "import matplotlib.pyplot as plt\n",
        "#ep = np.linspace(1,len(trainacc_01),len(trainacc_01))\n",
        "plt.plot(n,testnoiseb,'--*r', label ='baseline')\n",
        "plt.plot(n,testnoisem,'--o', label ='model')\n",
        "plt.title(\"CIFAR-10\")\n",
        "plt.xlabel(\"Noise ratio\")\n",
        "plt.ylabel(\"Testing Accuracy(%)\")\n",
        "plt.legend()\n",
        "plt.grid()\n",
        "plt.show()"
      ],
      "metadata": {
        "colab": {
          "base_uri": "https://localhost:8080/",
          "height": 295
        },
        "id": "M6C9-B_euZw1",
        "outputId": "d7dc342c-5fb7-4fdc-9784-e9b4e1e796a4"
      },
      "execution_count": null,
      "outputs": [
        {
          "output_type": "display_data",
          "data": {
            "text/plain": [
              "<Figure size 432x288 with 1 Axes>"
            ],
            "image/png": "[encoded data removed]"
          },
          "metadata": {
            "needs_background": "light"
          }
        }
      ]
    },
    {
      "cell_type": "code",
      "source": [],
      "metadata": {
        "id": "X6gmHxTys9dU"
      },
      "execution_count": null,
      "outputs": []
    }
  ]
}